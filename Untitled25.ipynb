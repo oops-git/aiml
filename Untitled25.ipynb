{
 "cells": [
  {
   "cell_type": "code",
   "execution_count": 2,
   "metadata": {},
   "outputs": [],
   "source": [
    "# A paper manufacturer has a production process that operates continuously. The\n",
    "# paper is expected to have a mean length of 11 inches and a standard deviation of\n",
    "# 0.02 inches. At periodic intervals, a sample is selected to determine whether the\n",
    "# paper length is still equal to 11 inches. You select a random sample of 100 sheets\n",
    "# and the mean paper length is 10.998 inches."
   ]
  },
  {
   "cell_type": "code",
   "execution_count": 4,
   "metadata": {},
   "outputs": [],
   "source": [
    "# ci=xbar +/- z(xby2) * std error\n",
    "import numpy as np\n",
    "import math as math"
   ]
  },
  {
   "cell_type": "code",
   "execution_count": 5,
   "metadata": {},
   "outputs": [],
   "source": [
    "xbar = 10.998\n",
    "sigma=.02\n",
    "n=100\n",
    "stderror=sigma/math.sqrt(n)"
   ]
  },
  {
   "cell_type": "code",
   "execution_count": 7,
   "metadata": {},
   "outputs": [
    {
     "name": "stdout",
     "output_type": "stream",
     "text": [
      "0.002\n"
     ]
    }
   ],
   "source": [
    "print (stderror)"
   ]
  },
  {
   "cell_type": "code",
   "execution_count": 15,
   "metadata": {},
   "outputs": [],
   "source": [
    "x=.05\n",
    "xby2=x/2"
   ]
  },
  {
   "cell_type": "code",
   "execution_count": 9,
   "metadata": {},
   "outputs": [
    {
     "name": "stdout",
     "output_type": "stream",
     "text": [
      "0.005\n"
     ]
    }
   ],
   "source": [
    "print (xby2)"
   ]
  },
  {
   "cell_type": "code",
   "execution_count": 16,
   "metadata": {},
   "outputs": [],
   "source": [
    "zxby2=1.96"
   ]
  },
  {
   "cell_type": "code",
   "execution_count": 17,
   "metadata": {},
   "outputs": [],
   "source": [
    "ci1=xbar + (zxby2 * stderror)\n",
    "ci2=xbar - (zxby2 * stderror)"
   ]
  },
  {
   "cell_type": "code",
   "execution_count": 18,
   "metadata": {},
   "outputs": [
    {
     "name": "stdout",
     "output_type": "stream",
     "text": [
      "11.00192 10.994079999999999\n"
     ]
    }
   ],
   "source": [
    "print (ci1, ci2)"
   ]
  },
  {
   "cell_type": "code",
   "execution_count": 19,
   "metadata": {},
   "outputs": [],
   "source": [
    "# A bottled water distributor wants to determine whether the mean amount of water contained in 1- gallon bottles purchased \n",
    "# from a nationality known water bottling company is actually 1 gallon. You know from the water bottle company \n",
    "# specifications that the standard deviation of the amount of water per bottle is 0.02 gallon. \n",
    "# You select a random sample of 50 bottles, and the mean amount of water per gallon bottle is 0.995 gallon\n",
    "# a) Is there evidence that the mean amount is different from 1.0 gallon?(Use α = 0.01)\n",
    "\n",
    "# b) Construct a 99% confidence interval estimate of the population mean amount of water per bottle.\n",
    "\n",
    "# c) Compare the results of a and b. What conclusions do you reach?"
   ]
  },
  {
   "cell_type": "code",
   "execution_count": 22,
   "metadata": {},
   "outputs": [],
   "source": [
    "mu=1\n",
    "sd=.02\n",
    "n=50\n",
    "xbar=.995\n",
    "alpha=.01\n",
    "#1 sample 2tailed z-test\n",
    "stderror = sd / math.sqrt(n)\n",
    "zstat = (xbar - mu) / stderror\n",
    "uc = 2.58, lc=-.258"
   ]
  },
  {
   "cell_type": "code",
   "execution_count": 26,
   "metadata": {},
   "outputs": [
    {
     "name": "stdout",
     "output_type": "stream",
     "text": [
      "-1.7677669529663704 0.00282842712474619\n",
      "1.002297341981845 0.9877026580181548\n"
     ]
    }
   ],
   "source": [
    "print (zstat, stderror)\n",
    "#so do not reject mean\n",
    "#now building 99% confidence interval estimate\n",
    "# ci = xbar +/- zxby2 * stderror\n",
    "# x=.01, xby2=.005, zxby2 = 2.58 (from chart)\n",
    "x=.01\n",
    "xby2=.005\n",
    "zxby2 = 2.58\n",
    "ci1 = xbar + (zxby2 * stderror)\n",
    "ci2 = xbar - (zxby2 * stderror)\n",
    "print (ci1, ci2)"
   ]
  },
  {
   "cell_type": "code",
   "execution_count": null,
   "metadata": {},
   "outputs": [],
   "source": []
  }
 ],
 "metadata": {
  "kernelspec": {
   "display_name": "Python 3",
   "language": "python",
   "name": "python3"
  },
  "language_info": {
   "codemirror_mode": {
    "name": "ipython",
    "version": 3
   },
   "file_extension": ".py",
   "mimetype": "text/x-python",
   "name": "python",
   "nbconvert_exporter": "python",
   "pygments_lexer": "ipython3",
   "version": "3.7.3"
  }
 },
 "nbformat": 4,
 "nbformat_minor": 2
}
